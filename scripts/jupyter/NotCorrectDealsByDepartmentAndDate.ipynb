{
 "cells": [
  {
   "cell_type": "code",
   "execution_count": 6,
   "id": "a7b9bb76",
   "metadata": {},
   "outputs": [
    {
     "name": "stdout",
     "output_type": "stream",
     "text": [
      "\n",
      "Готово!\n"
     ]
    }
   ],
   "source": [
    "import pandas as pd\n",
    "import numpy as np\n",
    "import time\n",
    "from datetime import datetime, timedelta\n",
    "import re\n",
    "import os\n",
    "import shutil\n",
    "\n",
    "from selenium import webdriver\n",
    "from selenium.webdriver.support.ui import Select\n",
    "from selenium.webdriver.common.by import By\n",
    "from selenium.webdriver.common.keys import Keys\n",
    "from selenium.webdriver.common.action_chains import ActionChains\n",
    "\n",
    "\n",
    "import warnings\n",
    "warnings.filterwarnings(\"ignore\")\n",
    "\n",
    "day = datetime.today()\n",
    "d = day.day - 2\n",
    "\n",
    "#---------------------------------------------\n",
    "#NOT CORRECT\n",
    "#---------------------------------------------\n",
    "driver = webdriver.Chrome(executable_path = 'C:\\\\Users\\\\ADavydovskiy\\\\scripts\\\\YandexDriver\\\\yandexdriver.exe')\n",
    "x = driver.get('http://msk1-bidb02/reports/report/%D0%9E%D1%82%D1%87%D0%B5%D1%82%D1%8B%20%D0%9A%D0%94/NotCorrectDealsByDepartmentAndDate')\n",
    "time.sleep(10)\n",
    "ActionChains(driver) \\\n",
    "    .move_by_offset(333, 158).click() \\\n",
    "    .move_by_offset(-207, 42).click() \\\n",
    "    .send_keys(Keys.ENTER) \\\n",
    "    .move_by_offset(0, 35).click() \\\n",
    "    .send_keys(\"01.01.2022\", Keys.ENTER) \\\n",
    "    .move_by_offset(0, 45).click() \\\n",
    "    .send_keys(f\"{d}.06.2023\", Keys.ENTER) \\\n",
    "    .perform()\n",
    "\n",
    "time.sleep(10)\n",
    "\n",
    "ActionChains(driver) \\\n",
    "    .move_by_offset(1000, -115).click() \\\n",
    "    .perform()\n",
    "\n",
    "time.sleep(120)\n",
    "\n",
    "ActionChains(driver) \\\n",
    "    .move_by_offset(-485, 180).click() \\\n",
    "    .move_by_offset(0, 90).click() \\\n",
    "    .perform()\n",
    "\n",
    "time.sleep(120)\n",
    "\n",
    "src_nc = 'C:\\\\Users\\\\ADavydovskiy\\\\Downloads\\\\NotCorrectDealsByDepartmentAndDate.xlsx'\n",
    "dest_nc = '\\\\\\\\synergy.local\\\\Documents\\\\19.Группа мониторинга и сопровождения сделок\\\\01.Отчеты\\\\Харитуня\\\\Шаблоны\\\\STAGE\\\\Сделки\\\\NotCorrectDealsByDepartmentAndDate.xlsx'\n",
    "\n",
    "shutil.move(src_nc, dest_nc)\n",
    "\n",
    "print(\"\")\n",
    "print(\"Готово!\")"
   ]
  }
 ],
 "metadata": {
  "kernelspec": {
   "display_name": "Python 3 (ipykernel)",
   "language": "python",
   "name": "python3"
  },
  "language_info": {
   "codemirror_mode": {
    "name": "ipython",
    "version": 3
   },
   "file_extension": ".py",
   "mimetype": "text/x-python",
   "name": "python",
   "nbconvert_exporter": "python",
   "pygments_lexer": "ipython3",
   "version": "3.9.12"
  }
 },
 "nbformat": 4,
 "nbformat_minor": 5
}
