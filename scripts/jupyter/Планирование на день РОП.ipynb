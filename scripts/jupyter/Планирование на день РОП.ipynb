{
 "cells": [
  {
   "cell_type": "code",
   "execution_count": 2,
   "id": "508733a1",
   "metadata": {
    "scrolled": false
   },
   "outputs": [
    {
     "name": "stdout",
     "output_type": "stream",
     "text": [
      "\n",
      "Готово!\n"
     ]
    }
   ],
   "source": [
    "import pandas as pd\n",
    "import numpy as np\n",
    "import time\n",
    "from tqdm import tqdm\n",
    "import openpyxl as ox\n",
    "import re\n",
    "import os\n",
    "\n",
    "from openpyxl import load_workbook\n",
    "from openpyxl.utils.dataframe import dataframe_to_rows\n",
    "\n",
    "from selenium import webdriver\n",
    "from selenium.webdriver.support.ui import Select\n",
    "from selenium.webdriver.common.by import By\n",
    "from selenium.webdriver.common.keys import Keys\n",
    "from selenium.webdriver.common.action_chains import ActionChains\n",
    "\n",
    "import warnings\n",
    "warnings.filterwarnings(\"ignore\")\n",
    "\n",
    "print(\"Артём снова выгружает планирование, пожалуйста, подождите...\")\n",
    "\n",
    "\n",
    "driver = webdriver.Chrome(executable_path = 'C:\\\\Users\\\\ADavydovskiy\\\\scripts\\\\YandexDriver\\\\yandexdriver.exe')\n",
    "x = driver.get('https://corp.synergy.ru/crm/reports.synergy/plan_oplat/')\n",
    "elem = Select(driver.find_element(By.ID, 'period'))\n",
    "elem.select_by_value('cday')\n",
    "\n",
    "rec = driver.find_element(By.ID, 'rec').click()\n",
    "\n",
    "prob = driver.find_element(By.XPATH, \n",
    "                           '/html/body/table/tbody/tr[2]/td/table/tbody/tr[1]/td[2]/table/tbody/tr[2]/td/div/div[2]/div/div[2]/form/div[6]/input[2]'\n",
    "                          ).click()\n",
    "\n",
    "\n",
    "stage = Select(driver.find_element(By.ID, 'stage'))\n",
    "stage.select_by_value('В работе')\n",
    "\n",
    "elem = driver.find_element(By.XPATH, '//*[@id=\"dept_chosen\"]/a/span').click()\n",
    "\n",
    "element = driver.find_element(By.XPATH, '//*[@id=\"dept_chosen\"]/div/div/input')\n",
    "ActionChains(driver) \\\n",
    "    .send_keys_to_element(element, \"(КМВ)\", Keys.ENTER)\\\n",
    "    .perform()\n",
    "\n",
    "\n",
    "    \n",
    "find = driver.find_element(By.XPATH, \n",
    "                           '//*[@id=\"workarea-content\"]/div/div[2]/form/div[14]/input'\n",
    "                          ).click()\n",
    "time.sleep(20)\n",
    "\n",
    "tab = driver.find_element(By.XPATH, '//*[@id=\"mytable\"]')    \n",
    "tab_html=tab.get_attribute('outerHTML')\n",
    "tab_dfs=pd.read_html(tab_html)\n",
    "df = tab_dfs[0]\n",
    "y = df['Сумма за день'][1]\n",
    "df['Сумма за день'] = df['Сумма за день'].replace(y, np.nan)\n",
    "df['Сумма за день'] = df['Сумма за день'][-2:].fillna(y)\n",
    "\n",
    "driver.close()\n",
    "\n",
    "#-----------------------------------------------------------------------\n",
    "\n",
    "wb = load_workbook(r'\\\\synergy.local\\Documents\\19.Группа мониторинга и сопровождения сделок\\01.Отчеты\\Планирование на день РОП.xlsx')\n",
    "\n",
    "sheet = wb.get_sheet_by_name('1')\n",
    "sheet.delete_rows(1, sheet.max_row)\n",
    "\n",
    "for r in dataframe_to_rows(df, index=False, header=True):\n",
    "    sheet.append(r)\n",
    "\n",
    "\n",
    "wb.save(r'\\\\synergy.local\\Documents\\19.Группа мониторинга и сопровождения сделок\\01.Отчеты\\Планирование на день РОП.xlsx')\n",
    "\n",
    "print(\"\")\n",
    "print(\"Готово!\")"
   ]
  }
 ],
 "metadata": {
  "kernelspec": {
   "display_name": "Python 3 (ipykernel)",
   "language": "python",
   "name": "python3"
  },
  "language_info": {
   "codemirror_mode": {
    "name": "ipython",
    "version": 3
   },
   "file_extension": ".py",
   "mimetype": "text/x-python",
   "name": "python",
   "nbconvert_exporter": "python",
   "pygments_lexer": "ipython3",
   "version": "3.9.12"
  }
 },
 "nbformat": 4,
 "nbformat_minor": 5
}
