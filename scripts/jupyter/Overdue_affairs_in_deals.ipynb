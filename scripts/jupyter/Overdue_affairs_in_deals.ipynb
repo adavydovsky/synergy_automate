{
 "cells": [
  {
   "cell_type": "code",
   "execution_count": 7,
   "id": "880d98b2",
   "metadata": {},
   "outputs": [
    {
     "name": "stdout",
     "output_type": "stream",
     "text": [
      "\n",
      "Готово!\n"
     ]
    }
   ],
   "source": [
    "import pandas as pd\n",
    "import numpy as np\n",
    "import time\n",
    "from datetime import datetime, timedelta\n",
    "import re\n",
    "import os\n",
    "import shutil\n",
    "\n",
    "from selenium import webdriver\n",
    "from selenium.webdriver.support.ui import Select\n",
    "from selenium.webdriver.common.by import By\n",
    "from selenium.webdriver.common.keys import Keys\n",
    "from selenium.webdriver.common.action_chains import ActionChains\n",
    "\n",
    "\n",
    "import warnings\n",
    "warnings.filterwarnings(\"ignore\")\n",
    "\n",
    "day = datetime.today()\n",
    "d = day.day - 2\n",
    "\n",
    "#---------------------------------------------\n",
    "#OVERDUE\n",
    "#---------------------------------------------\n",
    "driver = webdriver.Chrome(executable_path = 'C:\\\\Users\\\\ADavydovskiy\\\\scripts\\\\YandexDriver\\\\yandexdriver.exe')\n",
    "x = driver.get('http://msk1-bidb02/reports/report/Отчеты%20КД/Overdue_affairs_in_deals')\n",
    "time.sleep(5)\n",
    "\n",
    "ActionChains(driver) \\\n",
    "    .send_keys(Keys.TAB,\n",
    "               \"01.01.2022\",\n",
    "               Keys.TAB * 2,\n",
    "               f\"{d}.06.2023\",\n",
    "               Keys.TAB * 3,\n",
    "               Keys.ENTER,\n",
    "               Keys.TAB * 4,\n",
    "               Keys.SPACE,\n",
    "               Keys.ENTER,\n",
    "               Keys.TAB * 5) \\\n",
    "    .perform()\n",
    "\n",
    "time.sleep(2)\n",
    "\n",
    "ActionChains(driver) \\\n",
    "    .send_keys(Keys.ENTER,\n",
    "               Keys.TAB * 5,\n",
    "               Keys.ENTER) \\\n",
    "    .perform()\n",
    "\n",
    "time.sleep(300)\n",
    "\n",
    "ActionChains(driver) \\\n",
    "    .move_by_offset(635, 265).click() \\\n",
    "    .move_by_offset(0, 90).click() \\\n",
    "    .perform()\n",
    "\n",
    "time.sleep(60)\n",
    "\n",
    "src_ov = 'C:\\\\Users\\\\ADavydovskiy\\\\Downloads\\\\Overdue_affairs_in_deals.xlsx'\n",
    "dest_ov = '\\\\\\\\synergy.local\\\\Documents\\\\19.Группа мониторинга и сопровождения сделок\\\\01.Отчеты\\\\Харитуня\\\\Шаблоны\\\\STAGE\\\\Сделки\\\\Overdue_affairs_in_deals.xlsx'\n",
    "\n",
    "shutil.move(src_ov, dest_ov)\n",
    "\n",
    "print(\"\")\n",
    "print(\"Готово!\")"
   ]
  }
 ],
 "metadata": {
  "kernelspec": {
   "display_name": "Python 3 (ipykernel)",
   "language": "python",
   "name": "python3"
  },
  "language_info": {
   "codemirror_mode": {
    "name": "ipython",
    "version": 3
   },
   "file_extension": ".py",
   "mimetype": "text/x-python",
   "name": "python",
   "nbconvert_exporter": "python",
   "pygments_lexer": "ipython3",
   "version": "3.9.12"
  }
 },
 "nbformat": 4,
 "nbformat_minor": 5
}
