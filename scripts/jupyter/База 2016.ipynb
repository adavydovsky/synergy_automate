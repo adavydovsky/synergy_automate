{
 "cells": [
  {
   "cell_type": "code",
   "execution_count": null,
   "id": "cf74f7ef",
   "metadata": {},
   "outputs": [
    {
     "name": "stdout",
     "output_type": "stream",
     "text": [
      "Артём со всей силы берёт БАЗУ 2018 и варганет из неё БАЗУ 2016!\n"
     ]
    }
   ],
   "source": [
    "import os\n",
    "\n",
    "import pandas as pd\n",
    "import numpy as np\n",
    "import openpyxl as ox\n",
    "import re\n",
    "\n",
    "from openpyxl import load_workbook\n",
    "from openpyxl import workbook\n",
    "from openpyxl.styles import Font\n",
    "from openpyxl.utils.dataframe import dataframe_to_rows\n",
    "from openpyxl.cell.cell import WriteOnlyCell\n",
    "\n",
    "from datetime import datetime, timedelta\n",
    "\n",
    "import warnings\n",
    "warnings.filterwarnings(\"ignore\")\n",
    "\n",
    "import string\n",
    "\n",
    "import pyodbc\n",
    "\n",
    "\n",
    "print(\"Артём со всей силы берёт БАЗУ 2018 и варганет из неё БАЗУ 2016!\")\n",
    "\n",
    "БД = pd.read_excel(r'\\\\synergy.local\\Documents\\19.Группа мониторинга и сопровождения сделок\\01.Отчеты\\БАЗА КД ОБЩАЯ 2018.xlsx', sheet_name='2018')\n",
    "\n",
    "\n",
    "БД.columns = ['ID сделки', 'ID встречи', 'месяц оплаты', 'ФИО АБИТУРИЕНТА', 'ТЕЛЕФОН', 'ОПЕРАТОР', \n",
    "              'ОТДЕЛ', 'ленд', 'источник', 'ID Лида', 'дата создания лида','первое обращение', \n",
    "              'ленд первого обращения', 'ХТС источник', 'ДАТА ПОДАЧИ', 'ОПЛАТА ПО ФАКТУ', \n",
    "              'Дата выписки', 'Дата счета', 'СТАВКА 1С', 'Сумма оплаты', 'Выручка РЕАЛ', 'Тип скидки', \n",
    "              'Размер скидки', 'Кол. Семестров', 'Номер Договора', 'Скидка/Полный', 'ВХОД', \n",
    "              'ВЫХОД', 'Коэфф', 'Примечание', 'Услуга', 'Услуга 2', 'форма', 'Специальность', \n",
    "              'Программа', 'ДАТА ЛВ', 'Принято', 'Визуал/ Офор.', 'оформление', 'СТАТУС ПЭО', \n",
    "              'Уровень 2', 'Уровень', 'Продукт ПМ', 'КЦ', 'Задача'\n",
    "             ]\n",
    "\n",
    "\n",
    "wb = load_workbook(r'\\\\synergy.local\\Documents\\19.Группа мониторинга и сопровождения сделок\\01.Отчеты\\БАЗА КД ОБЩАЯ 2016.xlsx')\n",
    "\n",
    "sheet = wb.get_sheet_by_name('2018')\n",
    "sheet.delete_rows(1, sheet.max_row)\n",
    "\n",
    "for r in dataframe_to_rows(БД, index=False, header=True):\n",
    "    sheet.append(r)\n",
    "\n",
    "\n",
    "wb.save(r'\\\\synergy.local\\Documents\\19.Группа мониторинга и сопровождения сделок\\01.Отчеты\\БАЗА КД ОБЩАЯ 2016.xlsx')\n",
    "\n",
    "print(\"\")\n",
    "print(\"Готово!\")"
   ]
  }
 ],
 "metadata": {
  "kernelspec": {
   "display_name": "Python 3 (ipykernel)",
   "language": "python",
   "name": "python3"
  },
  "language_info": {
   "codemirror_mode": {
    "name": "ipython",
    "version": 3
   },
   "file_extension": ".py",
   "mimetype": "text/x-python",
   "name": "python",
   "nbconvert_exporter": "python",
   "pygments_lexer": "ipython3",
   "version": "3.9.12"
  }
 },
 "nbformat": 4,
 "nbformat_minor": 5
}
